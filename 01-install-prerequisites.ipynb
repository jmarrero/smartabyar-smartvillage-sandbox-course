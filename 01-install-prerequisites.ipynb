{
 "cells": [
  {
   "cell_type": "markdown",
   "id": "50bb4e0e-a127-4327-b49f-f68a1583b866",
   "metadata": {
    "tags": []
   },
   "source": [
    "# Helpful tips for running the commands in this notebook\n",
    "\n",
    "There are several commands that are written into this notebook that can be run directly in the notebook. \n",
    "\n",
    "Just click on the commands in order, and press `[ Shift ] + [ Enter ]`. \n",
    "\n",
    "You can use the arrow keys to move to the next section of the notebook. \n",
    "\n",
    "# Install prerequisite helm binary\n",
    "\n",
    "## Download helm\n",
    "- The helm command is used to deploy helm charts like MongoDB and RabbitMQ. Run the command below to download a compressed file containing the helm binaries to the `/tmp` directory. \n",
    "- Then check the size and permissions of the downloaded file. "
   ]
  },
  {
   "cell_type": "code",
   "execution_count": null,
   "id": "f3e84060-3181-4b5b-9d7f-db04f5b72fb2",
   "metadata": {
    "tags": []
   },
   "outputs": [],
   "source": [
    "%%bash\n",
    "curl https://get.helm.sh/helm-v3.13.2-linux-amd64.tar.gz -o /tmp/helm-v3.13.2-linux-amd64.tar.gz\n",
    "ls -lh /tmp/helm-v3.13.2-linux-amd64.tar.gz\n",
    "echo DONE"
   ]
  },
  {
   "cell_type": "markdown",
   "id": "8bf0528d-ccdd-41dd-ba01-957d2ad564d5",
   "metadata": {},
   "source": [
    "# Make user local bin directory and user local optional helm directory\n",
    "- Make two new user directories. One for for storing local binary executable files, and one to store the helm application. \n",
    "- Then check that the two directories exist. "
   ]
  },
  {
   "cell_type": "code",
   "execution_count": null,
   "id": "b198a292-7a53-4b23-b000-58d97f41d1bc",
   "metadata": {
    "tags": []
   },
   "outputs": [],
   "source": [
    "%%bash\n",
    "mkdir -p ~/.local/bin/ ~/.local/opt/helm/\n",
    "ls -ld ~/.local/bin/ ~/.local/opt/helm/\n",
    "echo DONE"
   ]
  },
  {
   "cell_type": "markdown",
   "id": "937f96b3-43ee-482e-83bd-d3458c204b28",
   "metadata": {},
   "source": [
    "## Extract the helm binary\n",
    "- Extract the contents of the helm compressed file to the helm directory for optional local user applications. \n",
    "- Check that the helm executable, license, and readme are all extracted in the right directory. "
   ]
  },
  {
   "cell_type": "code",
   "execution_count": null,
   "id": "e905890a-fcec-4dbe-92b3-cc4faa78e225",
   "metadata": {
    "tags": []
   },
   "outputs": [],
   "source": [
    "%%bash\n",
    "tar xvf /tmp/helm-v3.13.2-linux-amd64.tar.gz --strip-components=1 -C ~/.local/opt/helm/\n",
    "ls -l ~/.local/opt/helm/\n",
    "echo DONE"
   ]
  },
  {
   "cell_type": "markdown",
   "id": "b3c590e9-af84-41c0-8683-6ee5cbc85d37",
   "metadata": {},
   "source": [
    "## Copy the helm binary into the $PATH\n",
    "- Copy the `helm` binary from the user local optional helm application directory to the user local bin directory. \n",
    "- Check with the `which` command that the `helm` binary is available in the `$PATH` to be run in the terminal. "
   ]
  },
  {
   "cell_type": "code",
   "execution_count": null,
   "id": "8d652420-7beb-45c6-9a87-1f67259d4c83",
   "metadata": {
    "tags": []
   },
   "outputs": [],
   "source": [
    "%%bash\n",
    "cp ~/.local/opt/helm/helm ~/.local/bin/\n",
    "which helm\n",
    "echo DONE"
   ]
  },
  {
   "cell_type": "markdown",
   "id": "c9676290-8b6d-4bd2-a4fc-1e41e315bde8",
   "metadata": {},
   "source": [
    "# Install prerequisite Ansible automation tools\n",
    "\n",
    "## Install prerequisite Python packages for Ansible\n",
    "\n",
    "Whenever I install Ansible, I find there are some required Python dependencies. Install the `setuptools_rust` and `wheel` Python dependencies below. "
   ]
  },
  {
   "cell_type": "code",
   "execution_count": null,
   "id": "10cd55a2-6f6b-4884-a588-81f4e1892907",
   "metadata": {},
   "outputs": [],
   "source": [
    "%%bash\n",
    "pip install setuptools_rust wheel\n",
    "echo DONE"
   ]
  },
  {
   "cell_type": "markdown",
   "id": "760ea4b4-cf87-4b5e-b444-d8eb6eb31998",
   "metadata": {},
   "source": [
    "## Upgrade pip the python package manager\n",
    "\n",
    "Next upgrade pip, the python package manager for the latest python package support. "
   ]
  },
  {
   "cell_type": "code",
   "execution_count": null,
   "id": "6ab39079-cfd5-4cfb-82cc-c7a2042f22c1",
   "metadata": {},
   "outputs": [],
   "source": [
    "%%bash\n",
    "pip install --upgrade pip\n",
    "echo DONE"
   ]
  },
  {
   "cell_type": "code",
   "execution_count": null,
   "id": "36d8214a-63d3-49fa-8849-6edc367a8941",
   "metadata": {},
   "outputs": [],
   "source": [
    "%%bash\n",
    "pip install ansible kubernetes openshift jmespath --upgrade\n",
    "which ansible-playbook\n",
    "echo DONE"
   ]
  },
  {
   "cell_type": "markdown",
   "id": "05c988e0-418e-47d6-93c7-1253d158c044",
   "metadata": {},
   "source": [
    "If you have successfully ran all of the commands above, congratulations, you are ready to move on to the next notebook in the course \n",
    "\n",
    "`c002-enUS/02-deploy-microservices.ipynb`"
   ]
  }
 ],
 "metadata": {
  "kernelspec": {
   "display_name": "Python 3.9",
   "language": "python",
   "name": "python3"
  },
  "language_info": {
   "codemirror_mode": {
    "name": "ipython",
    "version": 3
   },
   "file_extension": ".py",
   "mimetype": "text/x-python",
   "name": "python",
   "nbconvert_exporter": "python",
   "pygments_lexer": "ipython3",
   "version": "3.9.16"
  }
 },
 "nbformat": 4,
 "nbformat_minor": 5
}
