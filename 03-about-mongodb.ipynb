{
 "cells": [
  {
   "cell_type": "markdown",
   "id": "151d88f7-121a-4827-a4aa-1e10e78283e6",
   "metadata": {},
   "source": [
    "# Deploy FIWARE and Smart Village microservices\n",
    "\n",
    "A working cloud project that is capable of receiving data from IoT smart devices and processing edge device data is composed of several important microservices. We will review each of the required microservices below to begin sending, receiving, and analyzing IoT edge device data. "
   ]
  },
  {
   "cell_type": "markdown",
   "id": "0518244f-cf18-45c3-8ee1-3cbbecfba478",
   "metadata": {},
   "source": [
    "## Install the MongoDB NOSQL Database in the OpenShift Developer Sandbox\n",
    "\n",
    "Have you heard this joke? One day a police officer pulls over MongoDB. The officer says MongoDB was driving too fast, and asks MongoDB to show some ID. MongoDB tells the officer, \"Sorry, I don't have any ID. I find nothing in my wallet collection, `db.wallet.find()`. "
   ]
  },
  {
   "cell_type": "code",
   "execution_count": 1,
   "id": "35c83bd0-d82f-4d02-94a6-8ff41331845b",
   "metadata": {},
   "outputs": [
    {
     "name": "stderr",
     "output_type": "stream",
     "text": [
      "[WARNING]: No inventory was parsed, only implicit localhost is available\n",
      "[WARNING]: provided hosts list is empty, only localhost is available. Note that\n",
      "the implicit localhost does not match 'all'\n"
     ]
    },
    {
     "name": "stdout",
     "output_type": "stream",
     "text": [
      "\n",
      "PLAY [Install a EdgeMongoDB resource from OpenShift] ***************************\n",
      "\n",
      "TASK [fail] ********************************************************************\n",
      "skipping: [localhost]\n",
      "\n",
      "TASK [Query EdgeMongoDB] *******************************************************\n",
      "ok: [localhost]\n",
      "\n",
      "TASK [Set crd var] *************************************************************\n",
      "ok: [localhost]\n",
      "\n",
      "TASK [Set name var] ************************************************************\n",
      "ok: [localhost]\n",
      "\n",
      "TASK [Set namespace var] *******************************************************\n",
      "skipping: [localhost]\n",
      "\n",
      "TASK [smart-data-model-vars : Check for ENTITY_TYPE var] ***********************\n",
      "skipping: [localhost]\n",
      "\n",
      "TASK [smart-data-model-vars : Load EdgeMongoDB smart data model specific schema] ***\n",
      "ok: [localhost]\n",
      "\n",
      "TASK [smart-data-model-vars : Load EdgeMongoDB smart data model specific values] ***\n",
      "ok: [localhost]\n",
      "\n",
      "TASK [apply-edgemongodb : Add bitnami chart repo] ******************************\n",
      "ok: [localhost]\n",
      "\n",
      "TASK [apply-edgemongodb : Install FIWARE Marinera mongodb helm chart] **********\n"
     ]
    },
    {
     "name": "stderr",
     "output_type": "stream",
     "text": [
      "[WARNING]: The default idempotency check can fail to report changes in certain\n",
      "cases. Install helm diff >= 3.4.1 for better results.\n"
     ]
    },
    {
     "name": "stdout",
     "output_type": "stream",
     "text": [
      "ok: [localhost]\n",
      "\n",
      "TASK [apply-edgemongodb : Query MongoDB pod] ***********************************\n",
      "ok: [localhost]\n",
      "\n",
      "PLAY RECAP *********************************************************************\n",
      "localhost                  : ok=8    changed=0    unreachable=0    failed=0    skipped=3    rescued=0    ignored=0   \n",
      "\n"
     ]
    }
   ],
   "source": [
    "%%bash\n",
    "ansible-playbook ~/smartvillage-operator/apply-edgemongodb.yaml \\\n",
    "  -e ansible_operator_meta_namespace=$(oc get project -o jsonpath={.items[0].metadata.name}) \\\n",
    "  -e crd_path=~/smartvillage-operator/kustomize/overlays/sandbox/edgemongodbs/mongodb/edgemongodb.yaml\n"
   ]
  },
  {
   "cell_type": "markdown",
   "id": "12633dc3-21e0-4c1b-b4a7-fb0d7c860a8e",
   "metadata": {},
   "source": [
    "## Install the RabbitMQ in the OpenShift Developer Sandbox\n"
   ]
  },
  {
   "cell_type": "code",
   "execution_count": null,
   "id": "27166c9e-f605-4468-84ed-7ff652e050a3",
   "metadata": {},
   "outputs": [],
   "source": [
    "%%bash\n",
    "ansible-playbook ~/smartvillage-operator/apply-edgerabbitmq.yaml \\\n",
    "  -e ansible_operator_meta_namespace=$(oc get project -o jsonpath={.items[0].metadata.name}) \\\n",
    "  -e crd_path=~/smartvillage-operator/kustomize/overlays/sandbox/edgerabbitmqs/rabbitmq/edgerabbitmq.yaml\n"
   ]
  },
  {
   "cell_type": "markdown",
   "id": "5daf9750-92d1-4f20-b922-4b6c551c37fe",
   "metadata": {},
   "source": [
    "## Install postgres in the OpenShift Developer Sandbox\n"
   ]
  },
  {
   "cell_type": "code",
   "execution_count": null,
   "id": "ade5161a-b85d-416b-855a-408a2d7b148c",
   "metadata": {},
   "outputs": [],
   "source": [
    "%%bash\n",
    "oc create configmap smartvillage-db-create --from-file ~/smartabyar-smartvillage/src/main/resources/sql/db-create.sql\n",
    "\n",
    "ansible-playbook ~/smartvillage-operator/apply-edgepostgres.yaml \\\n",
    "  -e ansible_operator_meta_namespace=$(oc get project -o jsonpath={.items[0].metadata.name}) \\\n",
    "  -e crd_path=~/smartvillage-operator/kustomize/overlays/sandbox/edgepostgress/postgres/edgepostgres.yaml\n"
   ]
  },
  {
   "cell_type": "markdown",
   "id": "4c91b212-ef1d-4162-ac92-d14dd879d4c7",
   "metadata": {},
   "source": [
    "## Install the scorpiobroker Context Broker in the OpenShift Developer Sandbox\n"
   ]
  },
  {
   "cell_type": "code",
   "execution_count": null,
   "id": "275ef8d5-8a82-4848-92e0-10dfa37493f7",
   "metadata": {},
   "outputs": [],
   "source": [
    "%%bash\n",
    "ansible-playbook ~/smartvillage-operator/apply-scorpiobroker.yaml \\\n",
    "  -e ansible_operator_meta_namespace=$(oc get project -o jsonpath={.items[0].metadata.name}) \\\n",
    "  -e crd_path=~/smartvillage-operator/kustomize/overlays/sandbox/scorpiobrokers/scorpiobroker/scorpiobroker.yaml\n"
   ]
  },
  {
   "cell_type": "markdown",
   "id": "c0365d07-91a1-4e15-982e-b736598a1dce",
   "metadata": {},
   "source": [
    "## Install the IoT Agent JSON in the OpenShift Developer Sandbox\n"
   ]
  },
  {
   "cell_type": "code",
   "execution_count": null,
   "id": "c7f1fac8-1354-41b7-9b9d-e45b90d305eb",
   "metadata": {},
   "outputs": [],
   "source": [
    "%%bash\n",
    "ansible-playbook ~/smartvillage-operator/apply-iotagentjson.yaml \\\n",
    "  -e ansible_operator_meta_namespace=$(oc get project -o jsonpath={.items[0].metadata.name}) \\\n",
    "  -e crd_path=~/smartvillage-operator/kustomize/overlays/sandbox/iotagentjsons/iotagent-json/iotagentjson.yaml\n"
   ]
  },
  {
   "cell_type": "markdown",
   "id": "01221aff-1699-4ef9-b326-33feb5c23fc3",
   "metadata": {},
   "source": [
    "## Install zookeeper in the OpenShift Developer Sandbox\n"
   ]
  },
  {
   "cell_type": "code",
   "execution_count": null,
   "id": "b62b93db-e468-45cb-81fb-7d59ad6843c9",
   "metadata": {},
   "outputs": [],
   "source": [
    "%%bash\n",
    "ansible-playbook ~/smartvillage-operator/apply-edgezookeeper.yaml \\\n",
    "  -e ansible_operator_meta_namespace=$(oc get project -o jsonpath={.items[0].metadata.name}) \\\n",
    "  -e crd_path=~/smartvillage-operator/kustomize/overlays/sandbox/edgezookeepers/default/edgezookeeper.yaml\n"
   ]
  },
  {
   "cell_type": "markdown",
   "id": "0c7ca897-d10d-4232-a6bb-5088e54961b7",
   "metadata": {},
   "source": [
    "## Install solr in the OpenShift Developer Sandbox\n"
   ]
  },
  {
   "cell_type": "code",
   "execution_count": null,
   "id": "d97cfad6-323f-45e1-a066-216b79e155b5",
   "metadata": {},
   "outputs": [],
   "source": [
    "%%bash\n",
    "oc apply -k ~/smartvillage-operator/kustomize/overlays/sandbox/edgesolrs/default/configmaps/\n",
    "\n",
    "ansible-playbook ~/smartvillage-operator/apply-edgesolr.yaml \\\n",
    "  -e ansible_operator_meta_namespace=$(oc get project -o jsonpath={.items[0].metadata.name}) \\\n",
    "  -e crd_path=~/smartvillage-operator/kustomize/overlays/sandbox/edgesolrs/default/edgesolrs/default/edgesolr.yaml\n"
   ]
  },
  {
   "cell_type": "markdown",
   "id": "155c05ff-be49-48db-b9d9-883c467b41a8",
   "metadata": {},
   "source": [
    "## Install the SmartaByarSmartVillage in the OpenShift Developer Sandbox\n"
   ]
  },
  {
   "cell_type": "code",
   "execution_count": null,
   "id": "32166789-ee41-489d-9929-db8f6df0600c",
   "metadata": {},
   "outputs": [],
   "source": [
    "%%bash\n",
    "oc apply -f ~/smartvillage-operator/static/demo-auth-secret.yaml\n",
    "\n",
    "ansible-playbook ~/smartvillage-operator/apply-smartabyarsmartvillage.yaml \\\n",
    "  -e ansible_operator_meta_namespace=$(oc get project -o jsonpath={.items[0].metadata.name}) \\\n",
    "  -e crd_path=~/smartvillage-operator/kustomize/overlays/sandbox/smartabyarsmartvillages/smartvillage/smartabyarsmartvillage.yaml\n"
   ]
  },
  {
   "cell_type": "code",
   "execution_count": null,
   "id": "4ac718e8-dbd3-415e-8836-8d9799cb85dd",
   "metadata": {},
   "outputs": [],
   "source": []
  }
 ],
 "metadata": {
  "kernelspec": {
   "display_name": "Python 3.9",
   "language": "python",
   "name": "python3"
  },
  "language_info": {
   "codemirror_mode": {
    "name": "ipython",
    "version": 3
   },
   "file_extension": ".py",
   "mimetype": "text/x-python",
   "name": "python",
   "nbconvert_exporter": "python",
   "pygments_lexer": "ipython3",
   "version": "3.9.16"
  }
 },
 "nbformat": 4,
 "nbformat_minor": 5
}
