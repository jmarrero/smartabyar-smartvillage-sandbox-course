{
 "cells": [
  {
   "cell_type": "markdown",
   "id": "a78cc227-da80-46d1-bdd9-917601734b19",
   "metadata": {},
   "source": [
    "# Deploy Smart Devices in the IoT Agent and Context Broker"
   ]
  },
  {
   "cell_type": "code",
   "execution_count": null,
   "id": "b2625290-dd52-4597-905b-22e1e2675bd6",
   "metadata": {},
   "outputs": [],
   "source": [
    "# Deploy "
   ]
  },
  {
   "cell_type": "code",
   "execution_count": null,
   "id": "7c20a5e2-fca2-4b18-9154-95198e087075",
   "metadata": {},
   "outputs": [],
   "source": [
    "%%bash\n",
    "cat ~/smartvillage-operator/kustomize/overlays/sandbox/trafficflowobserveds/sweden-veberod-1-lakaregatan-ne/trafficflowobserved.yaml\n",
    "ansible-playbook ~/smartvillage-operator/apply-trafficflowobserved.yaml \\\n",
    "  -e ansible_operator_meta_namespace=$(oc get project -o jsonpath={.items[0].metadata.name}) \\\n",
    "  -e crd_path=~/smartvillage-operator/kustomize/overlays/sandbox/trafficflowobserveds/sweden-veberod-1-lakaregatan-ne/trafficflowobserved.yaml\n",
    "echo DONE"
   ]
  },
  {
   "cell_type": "code",
   "execution_count": null,
   "id": "afb89892-f417-4fba-9c1c-d0f04d328af1",
   "metadata": {},
   "outputs": [],
   "source": []
  }
 ],
 "metadata": {
  "kernelspec": {
   "display_name": "Python 3.9",
   "language": "python",
   "name": "python3"
  },
  "language_info": {
   "codemirror_mode": {
    "name": "ipython",
    "version": 3
   },
   "file_extension": ".py",
   "mimetype": "text/x-python",
   "name": "python",
   "nbconvert_exporter": "python",
   "pygments_lexer": "ipython3",
   "version": "3.9.18"
  }
 },
 "nbformat": 4,
 "nbformat_minor": 5
}
