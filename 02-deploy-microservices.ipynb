{
 "cells": [
  {
   "cell_type": "markdown",
   "id": "151d88f7-121a-4827-a4aa-1e10e78283e6",
   "metadata": {},
   "source": [
    "# Deploy FIWARE and Smart Village microservices\n",
    "\n",
    "Have you heard the joke, how microservices were invented? A software engineer had a task to take an existing monolithic software application and split it into microservices. The engineer connected 5 cell phones to the existing application, pulled up 5 different screens on each phone, and glued each phone to a picture frame. That's how microservices were first prototyped. \n",
    "\n",
    "A working cloud project that is capable of receiving data from IoT smart devices and processing edge device data is composed of several important microservices. We will deploy each of the required microservices below to begin sending, receiving, and analyzing IoT edge device data. Then in later notebooks, we will review each microservice and how it works inside of the Smart Village Platform. "
   ]
  },
  {
   "cell_type": "markdown",
   "id": "0518244f-cf18-45c3-8ee1-3cbbecfba478",
   "metadata": {},
   "source": [
    "## Deploy the MongoDB NOSQL Database in the OpenShift Developer Sandbox\n",
    "\n",
    "A MongoDB No-SQL Database is required for FIWARE IoT Agents to store smart device registration data about each smart device in the project. \n",
    "\n",
    "Run the Ansible Playbook below to deploy MongoDB to the cloud. You can review the `03-about-mongodb.ipynb` notebook later in the course to troubleshoot, or find more details about the deployment of MongoDB. "
   ]
  },
  {
   "cell_type": "code",
   "execution_count": null,
   "id": "35c83bd0-d82f-4d02-94a6-8ff41331845b",
   "metadata": {},
   "outputs": [],
   "source": [
    "%%bash\n",
    "ansible-playbook ~/smartvillage-operator/apply-edgemongodb.yaml \\\n",
    "  -e ansible_operator_meta_namespace=$(oc get project -o jsonpath={.items[0].metadata.name}) \\\n",
    "  -e crd_path=~/smartvillage-operator/kustomize/overlays/sandbox/edgemongodbs/mongodb/edgemongodb.yaml\n",
    "echo DONE"
   ]
  },
  {
   "cell_type": "markdown",
   "id": "9f05431d-cc70-4895-88a4-f0152c19686e",
   "metadata": {},
   "source": [
    "### View MongoDB pod details\n",
    "After running the Ansible Playbook, it will take a minute before the MongoDB pod is up and running. Run the command below until the 2 MongoDB pod health checks are `READY 2/2` and `STATUS Running`. "
   ]
  },
  {
   "cell_type": "code",
   "execution_count": null,
   "id": "ca249a7b-e7a5-44d1-bc61-a20fb2490ed5",
   "metadata": {},
   "outputs": [],
   "source": [
    "%%bash\n",
    "oc get pod -l app.kubernetes.io/instance=mongodb\n",
    "echo DONE"
   ]
  },
  {
   "cell_type": "markdown",
   "id": "12633dc3-21e0-4c1b-b4a7-fb0d7c860a8e",
   "metadata": {},
   "source": [
    "## Deploy the RabbitMQ in the OpenShift Developer Sandbox\n",
    "A message broker like RabbitMQ can receive messages from smart devices and forward them on to an IoT Agent to process the message. \n",
    "\n",
    "Run the Ansible Playbook below to deploy RabbitMQ to the cloud. You can review the `04-about-rabbitmq.ipynb` notebook later in the course to troubleshoot, or find more details about the deployment of RabbitMQ. "
   ]
  },
  {
   "cell_type": "code",
   "execution_count": null,
   "id": "27166c9e-f605-4468-84ed-7ff652e050a3",
   "metadata": {},
   "outputs": [],
   "source": [
    "%%bash\n",
    "ansible-playbook ~/smartvillage-operator/apply-edgerabbitmq.yaml \\\n",
    "  -e ansible_operator_meta_namespace=$(oc get project -o jsonpath={.items[0].metadata.name}) \\\n",
    "  -e crd_path=~/smartvillage-operator/kustomize/overlays/sandbox/edgerabbitmqs/rabbitmq/edgerabbitmq.yaml\n",
    "echo DONE"
   ]
  },
  {
   "cell_type": "markdown",
   "id": "9fcc7218-198a-482f-b419-c7b2b74b1b42",
   "metadata": {},
   "source": [
    "### View RabbitMQ pod details\n",
    "After running the Ansible Playbook, it will take a minute before the RabbitMQ pod is up and running. Run the command below until the 2 RabbitMQ pod health checks are `READY 1/1` and `STATUS Running`. "
   ]
  },
  {
   "cell_type": "code",
   "execution_count": null,
   "id": "8a25567a-ede2-423d-a390-a9a66e106c69",
   "metadata": {},
   "outputs": [],
   "source": [
    "%%bash\n",
    "oc get pod -l app.kubernetes.io/name=rabbitmq\n",
    "echo DONE"
   ]
  },
  {
   "cell_type": "markdown",
   "id": "5daf9750-92d1-4f20-b922-4b6c551c37fe",
   "metadata": {},
   "source": [
    "## Deploy PostgreSQL in the OpenShift Developer Sandbox\n",
    "A relational SQL database like PostgreSQL is required by the ScorpioBroker to store smart device context data for each smart device. We also store configurable user data like traffic simulations, simulation reports, and more in the Smart Village application with PostgreSQL. \n",
    "\n",
    "Run the command below to deploy the database create SQL scripts as a Kubernetes ConfigMap to the cloud. These scripts will be run later, when the PostgreSQL pod is running to initialize the Smart Village database. "
   ]
  },
  {
   "cell_type": "code",
   "execution_count": null,
   "id": "ade5161a-b85d-416b-855a-408a2d7b148c",
   "metadata": {},
   "outputs": [],
   "source": [
    "%%bash\n",
    "oc create configmap smartvillage-db-create --from-file ~/smartabyar-smartvillage/src/main/resources/sql/db-create.sql\n",
    "echo DONE"
   ]
  },
  {
   "cell_type": "markdown",
   "id": "7647f61b-15c1-4e84-9109-d492e592c6df",
   "metadata": {},
   "source": [
    "Run the Ansible Playbook below to deploy PostgreSQL to the cloud. You can review the `05-about-postgres.ipynb` notebook later in the course to troubleshoot, or find more details about the deployment of PostgreSQL. "
   ]
  },
  {
   "cell_type": "code",
   "execution_count": null,
   "id": "bddf2c71-6f7e-4ed0-ba8d-a3428f741b8d",
   "metadata": {},
   "outputs": [],
   "source": [
    "%%bash\n",
    "ansible-playbook ~/smartvillage-operator/apply-edgepostgres.yaml \\\n",
    "  -e ansible_operator_meta_namespace=$(oc get project -o jsonpath={.items[0].metadata.name}) \\\n",
    "  -e crd_path=~/smartvillage-operator/kustomize/overlays/sandbox/edgepostgress/postgres/edgepostgres.yaml\n",
    "echo DONE"
   ]
  },
  {
   "cell_type": "markdown",
   "id": "0307aac7-d44d-4064-8f6d-e65c2fb06f5a",
   "metadata": {},
   "source": [
    "### View PostgreSQL pod details\n",
    "After running the Ansible Playbook, it will take a minute before the PostgreSQL pod is up and running. Run the command below until the 2 PostgreSQL pod health checks are `READY 1/1` and `STATUS Running`. "
   ]
  },
  {
   "cell_type": "code",
   "execution_count": null,
   "id": "69b7fd89-2353-4e43-b336-4d24cf12b341",
   "metadata": {},
   "outputs": [],
   "source": [
    "%%bash\n",
    "oc get pod -l app.kubernetes.io/name=rabbitmq\n",
    "echo DONE"
   ]
  },
  {
   "cell_type": "markdown",
   "id": "4c91b212-ef1d-4162-ac92-d14dd879d4c7",
   "metadata": {},
   "source": [
    "## Deploy the scorpiobroker Context Broker in the OpenShift Developer Sandbox\n"
   ]
  },
  {
   "cell_type": "code",
   "execution_count": null,
   "id": "275ef8d5-8a82-4848-92e0-10dfa37493f7",
   "metadata": {},
   "outputs": [],
   "source": [
    "%%bash\n",
    "ansible-playbook ~/smartvillage-operator/apply-scorpiobroker.yaml \\\n",
    "  -e ansible_operator_meta_namespace=$(oc get project -o jsonpath={.items[0].metadata.name}) \\\n",
    "  -e crd_path=~/smartvillage-operator/kustomize/overlays/sandbox/scorpiobrokers/scorpiobroker/scorpiobroker.yaml\n",
    "echo DONE"
   ]
  },
  {
   "cell_type": "markdown",
   "id": "c0365d07-91a1-4e15-982e-b736598a1dce",
   "metadata": {},
   "source": [
    "## Deploy the IoT Agent JSON in the OpenShift Developer Sandbox\n"
   ]
  },
  {
   "cell_type": "code",
   "execution_count": null,
   "id": "c7f1fac8-1354-41b7-9b9d-e45b90d305eb",
   "metadata": {},
   "outputs": [],
   "source": [
    "%%bash\n",
    "ansible-playbook ~/smartvillage-operator/apply-iotagentjson.yaml \\\n",
    "  -e ansible_operator_meta_namespace=$(oc get project -o jsonpath={.items[0].metadata.name}) \\\n",
    "  -e crd_path=~/smartvillage-operator/kustomize/overlays/sandbox/iotagentjsons/iotagent-json/iotagentjson.yaml\n",
    "echo DONE"
   ]
  },
  {
   "cell_type": "markdown",
   "id": "01221aff-1699-4ef9-b326-33feb5c23fc3",
   "metadata": {},
   "source": [
    "## Deploy zookeeper in the OpenShift Developer Sandbox\n"
   ]
  },
  {
   "cell_type": "code",
   "execution_count": null,
   "id": "b62b93db-e468-45cb-81fb-7d59ad6843c9",
   "metadata": {},
   "outputs": [],
   "source": [
    "%%bash\n",
    "ansible-playbook ~/smartvillage-operator/apply-edgezookeeper.yaml \\\n",
    "  -e ansible_operator_meta_namespace=$(oc get project -o jsonpath={.items[0].metadata.name}) \\\n",
    "  -e crd_path=~/smartvillage-operator/kustomize/overlays/sandbox/edgezookeepers/default/edgezookeeper.yaml\n",
    "echo DONE"
   ]
  },
  {
   "cell_type": "markdown",
   "id": "0c7ca897-d10d-4232-a6bb-5088e54961b7",
   "metadata": {},
   "source": [
    "## Deploy solr in the OpenShift Developer Sandbox\n"
   ]
  },
  {
   "cell_type": "code",
   "execution_count": null,
   "id": "d97cfad6-323f-45e1-a066-216b79e155b5",
   "metadata": {},
   "outputs": [],
   "source": [
    "%%bash\n",
    "oc apply -k ~/smartvillage-operator/kustomize/overlays/sandbox/edgesolrs/default/configmaps/\n",
    "echo DONE"
   ]
  },
  {
   "cell_type": "code",
   "execution_count": null,
   "id": "bd25fc75-c849-426f-8547-466606150b47",
   "metadata": {},
   "outputs": [],
   "source": [
    "%%bash\n",
    "ansible-playbook ~/smartvillage-operator/apply-edgesolr.yaml \\\n",
    "  -e ansible_operator_meta_namespace=$(oc get project -o jsonpath={.items[0].metadata.name}) \\\n",
    "  -e crd_path=~/smartvillage-operator/kustomize/overlays/sandbox/edgesolrs/default/edgesolrs/default/edgesolr.yaml\n",
    "echo DONE"
   ]
  },
  {
   "cell_type": "markdown",
   "id": "155c05ff-be49-48db-b9d9-883c467b41a8",
   "metadata": {},
   "source": [
    "## Deploy the SmartaByarSmartVillage in the OpenShift Developer Sandbox\n"
   ]
  },
  {
   "cell_type": "code",
   "execution_count": null,
   "id": "32166789-ee41-489d-9929-db8f6df0600c",
   "metadata": {},
   "outputs": [],
   "source": [
    "%%bash\n",
    "oc apply -f ~/smartvillage-operator/static/demo-auth-secret.yaml\n",
    "echo DONE"
   ]
  },
  {
   "cell_type": "code",
   "execution_count": null,
   "id": "816139d8-cd8e-4432-81dc-e9ed44d070e0",
   "metadata": {},
   "outputs": [],
   "source": [
    "%%bash\n",
    "ansible-playbook ~/smartvillage-operator/apply-smartabyarsmartvillage.yaml \\\n",
    "  -e ansible_operator_meta_namespace=$(oc get project -o jsonpath={.items[0].metadata.name}) \\\n",
    "  -e crd_path=~/smartvillage-operator/kustomize/overlays/sandbox/smartabyarsmartvillages/smartvillage/smartabyarsmartvillage.yaml\n",
    "echo DONE"
   ]
  },
  {
   "cell_type": "code",
   "execution_count": null,
   "id": "4ac718e8-dbd3-415e-8836-8d9799cb85dd",
   "metadata": {},
   "outputs": [],
   "source": []
  }
 ],
 "metadata": {
  "kernelspec": {
   "display_name": "Python 3.9",
   "language": "python",
   "name": "python3"
  },
  "language_info": {
   "codemirror_mode": {
    "name": "ipython",
    "version": 3
   },
   "file_extension": ".py",
   "mimetype": "text/x-python",
   "name": "python",
   "nbconvert_exporter": "python",
   "pygments_lexer": "ipython3",
   "version": "3.9.16"
  }
 },
 "nbformat": 4,
 "nbformat_minor": 5
}
