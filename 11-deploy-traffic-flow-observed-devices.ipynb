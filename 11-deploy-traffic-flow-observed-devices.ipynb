{
 "cells": [
  {
   "cell_type": "markdown",
   "id": "a78cc227-da80-46d1-bdd9-917601734b19",
   "metadata": {},
   "source": [
    "# Deploy Traffic Flow Observed Devices in the IoT Agent, Context Broker, and Smart Village Platform"
   ]
  },
  {
   "cell_type": "markdown",
   "id": "8772a79e-9e96-4a06-be65-6d75af22da26",
   "metadata": {},
   "source": [
    "Now that all of our Smart Village microservices are running, we can start deploying smart devices to the platform. We will deploy an instance of the `TrafficFlowObserved` Kubernetes Custom Resource Definition (CRD) that we have defined in the Smart Village Operator. Run the command below to view the complete definition of the `sweden-veberod-1-lakaregatan-ne` `TrafficFlowObserved` smart device, then we will review each smaller section individually. \n"
   ]
  },
  {
   "cell_type": "code",
   "execution_count": null,
   "id": "d80f54d8-ea60-4a3d-ba82-217e30f4f996",
   "metadata": {
    "scrolled": true,
    "tags": []
   },
   "outputs": [],
   "source": [
    "%%bash\n",
    "cat ~/smartvillage-operator/kustomize/overlays/sandbox/trafficflowobserveds/sweden-veberod-1-lakaregatan-ne/trafficflowobserved.yaml\n"
   ]
  },
  {
   "cell_type": "markdown",
   "id": "36d445e7-f3b7-4a57-8808-c55ab77497fe",
   "metadata": {},
   "source": [
    "### apiVersion, kind and metadata of the TrafficFlowObserved smart device"
   ]
  },
  {
   "cell_type": "markdown",
   "id": "30d5acbb-6ff4-4013-9f0d-f59cdea0589c",
   "metadata": {},
   "source": [
    "At the top, we define the `apiVersion`, `kind`, and `metadata` of the `TrafficFlowObserved` smart device. "
   ]
  },
  {
   "cell_type": "code",
   "execution_count": null,
   "id": "b104eb19-a60a-4232-9e8f-4aec8ec861a9",
   "metadata": {
    "scrolled": true,
    "tags": []
   },
   "outputs": [],
   "source": [
    "%%bash\n",
    "cat ~/smartvillage-operator/kustomize/overlays/sandbox/trafficflowobserveds/sweden-veberod-1-lakaregatan-ne/trafficflowobserved.yaml | grep '^apiVersion: ' -A 3\n"
   ]
  },
  {
   "cell_type": "markdown",
   "id": "450f3e76-d124-4535-b183-a978f00779e1",
   "metadata": {},
   "source": [
    "We defined a Kubernetes resource with `apiVersion: smartvillage.computate.org/v1` and `kind: TrafficFlowObserved`. [See in the Smart Village Operator how we have defined a TrafficFlowObserved CRD](https://github.com/smartabyar-smartvillage/smartvillage-operator/blob/main/config/crd/bases/smartvillage.computate.org_trafficflowobserveds.yaml#L7-L15) with the same group, version, and kind. In the OpenShift environment it will have a name of `sweden-veberod-1-lakaregatan-ne` in our Developer Sandbox namespace. "
   ]
  },
  {
   "cell_type": "markdown",
   "id": "f2edfe3a-16ea-46ad-a83f-ebd9abc73886",
   "metadata": {},
   "source": [
    "### iotagent configuration of the TrafficFlowObserved smart device"
   ]
  },
  {
   "cell_type": "markdown",
   "id": "92f8e2c9-5f4f-4f97-8fec-5cd3471b490d",
   "metadata": {},
   "source": [
    "Then in the spec, we point the smart device to the IoT Agent base URL where the smart device will be registered. "
   ]
  },
  {
   "cell_type": "code",
   "execution_count": null,
   "id": "6ed6e445-2517-4a94-b63e-197b690db5db",
   "metadata": {
    "scrolled": true,
    "tags": []
   },
   "outputs": [],
   "source": [
    "%%bash\n",
    "cat ~/smartvillage-operator/kustomize/overlays/sandbox/trafficflowobserveds/sweden-veberod-1-lakaregatan-ne/trafficflowobserved.yaml | grep '^  iotagent:' -B 1 -A 1\n"
   ]
  },
  {
   "cell_type": "markdown",
   "id": "38b88c2e-4532-45f7-8d7a-d778710a53f2",
   "metadata": {
    "tags": []
   },
   "source": [
    "### context_broker configuration of the TrafficFlowObserved smart device"
   ]
  },
  {
   "cell_type": "markdown",
   "id": "1bdb8b6a-35a4-40cd-8955-36fcff6855c0",
   "metadata": {},
   "source": [
    "We point the smart device to the Context Broker base URL where the smart device entity data can be found after the smart device is registered with the IoT Agent. "
   ]
  },
  {
   "cell_type": "code",
   "execution_count": null,
   "id": "05f5d373-faaa-4b52-9b69-06e975e4d555",
   "metadata": {
    "scrolled": true,
    "tags": []
   },
   "outputs": [],
   "source": [
    "%%bash\n",
    "cat ~/smartvillage-operator/kustomize/overlays/sandbox/trafficflowobserveds/sweden-veberod-1-lakaregatan-ne/trafficflowobserved.yaml | grep '^  context_broker:' -A 1\n"
   ]
  },
  {
   "cell_type": "markdown",
   "id": "6707011f-314d-4960-a45b-f43a48d17c65",
   "metadata": {
    "tags": []
   },
   "source": [
    "### ngsi_ld configuration of the TrafficFlowObserved smart device"
   ]
  },
  {
   "cell_type": "markdown",
   "id": "01219741-ca85-4a4b-bc13-60a7fea012cc",
   "metadata": {},
   "source": [
    "We configure important NGSI-LD standard data for the smart device: \n"
   ]
  },
  {
   "cell_type": "code",
   "execution_count": null,
   "id": "2ff679c7-6be5-49f3-9ddf-378bb702cf2a",
   "metadata": {
    "scrolled": true,
    "tags": []
   },
   "outputs": [],
   "source": [
    "%%bash\n",
    "cat ~/smartvillage-operator/kustomize/overlays/sandbox/trafficflowobserveds/sweden-veberod-1-lakaregatan-ne/trafficflowobserved.yaml | grep '^  ngsi_ld:' -A 3\n"
   ]
  },
  {
   "cell_type": "markdown",
   "id": "499877d5-bde9-4a34-83eb-dba1a487fd2e",
   "metadata": {},
   "source": [
    "- `service: trafficflowobserveds` is required so that entities for a given service can be held in a separate mongoDB database in the IoT Agent. \n",
    "- `service_path: /Sweden/Veberod/CityCenter` is required to differentiate between arrays of devices. \n",
    "- `context: https://raw.githubusercontent.com/computate-org/smartabyar-smartvillage-static/main/fiware/context.jsonld` is required to give specific documentation context to every NGSI-LD Entity and Attribute in the whole set of smart data. [See the NGSI-LD Context for the Smart Village Operator here](https://raw.githubusercontent.com/computate-org/smartabyar-smartvillage-static/main/fiware/context.jsonld) which contains links to every single Entity and Attribute in the Smart Village Operator. "
   ]
  },
  {
   "cell_type": "markdown",
   "id": "d43cabb9-5b44-422b-ae44-2052b254ea08",
   "metadata": {
    "tags": []
   },
   "source": [
    "### device configuration of the TrafficFlowObserved smart device"
   ]
  },
  {
   "cell_type": "markdown",
   "id": "d5ae7bc5-15ec-406b-a5dd-f5aaa6c1d2b4",
   "metadata": {},
   "source": [
    "Now we configure device specific configuration. "
   ]
  },
  {
   "cell_type": "code",
   "execution_count": null,
   "id": "71bc9af1-5256-414a-82b6-c903d6b0da07",
   "metadata": {
    "scrolled": true,
    "tags": []
   },
   "outputs": [],
   "source": [
    "%%bash\n",
    "cat ~/smartvillage-operator/kustomize/overlays/sandbox/trafficflowobserveds/sweden-veberod-1-lakaregatan-ne/trafficflowobserved.yaml | grep '^  device:' -A 2\n"
   ]
  },
  {
   "cell_type": "markdown",
   "id": "e1778a30-1757-4fe2-8dae-dc6d956265dd",
   "metadata": {},
   "source": [
    "- We give the smart device the same `id` as the Kubernetes metadata name above to be consistent. \n",
    "- We set up a `subscription_url` where a webhook POST request will be made when the attributes of a TrafficFlowObserved Entity in the Context Broker change. We point this to the NGSI-LD Smart Village Sync application which is useful for sending smart device data from the Edge to the Cloud. "
   ]
  },
  {
   "cell_type": "markdown",
   "id": "08cbe84e-3a27-42b1-9f44-f67279b1f1f9",
   "metadata": {
    "tags": []
   },
   "source": [
    "### message_broker configuration of the TrafficFlowObserved smart device"
   ]
  },
  {
   "cell_type": "markdown",
   "id": "54d2a377-6d7c-4b02-9339-4552746fd9d3",
   "metadata": {},
   "source": [
    "Now we configure message broker specific configuration. "
   ]
  },
  {
   "cell_type": "code",
   "execution_count": null,
   "id": "faaf8d4d-c092-48a5-a745-2d9944f8fecb",
   "metadata": {
    "scrolled": true,
    "tags": []
   },
   "outputs": [],
   "source": [
    "%%bash\n",
    "cat ~/smartvillage-operator/kustomize/overlays/sandbox/trafficflowobserveds/sweden-veberod-1-lakaregatan-ne/trafficflowobserved.yaml | grep '^  message_broker:' -A 7\n"
   ]
  },
  {
   "cell_type": "markdown",
   "id": "ab323dfd-45b7-4776-afe0-0449b5ff7e49",
   "metadata": {},
   "source": [
    "Because we have a choice of two transport protocols (`AMQP`, and `MQTT`), we need to be very specific how we configure the message broker. \n",
    "- We use `transport: AMQP` in the Developer Sandbox because we don't have the operators in place to run Red Hat AMQ Broker which supports the MQTT 5 protocol. RabbitMQ supports an older version of MQTT, but the IoT Agents require MQTT 5. So we will simply use AMQP protocol which is supported by RabbitMQ and AMQ Broker. \n",
    "- We configure the `host: default-rabbitmq` and default AMQP `port: 5672` where RabbitMQ is accessible in your Developer Sandbox namespace. \n",
    "- We specify the message broker username `user: user`. \n",
    "- We specify the message broker password in the Kubernetes Secret with name `secret.name` and the password in the `secret.key` key. "
   ]
  },
  {
   "cell_type": "markdown",
   "id": "cc65a88d-7363-42ba-8de0-aa0b522a80b7",
   "metadata": {
    "tags": []
   },
   "source": [
    "### smartvillage configuration of the TrafficFlowObserved smart device"
   ]
  },
  {
   "cell_type": "markdown",
   "id": "c00f97aa-46b1-4990-b4f0-aa41e7179234",
   "metadata": {},
   "source": [
    "Now we configure the Smart Village Platform specific configuration. "
   ]
  },
  {
   "cell_type": "code",
   "execution_count": null,
   "id": "579f4f9a-d3ca-4f58-bc96-4d086888c3fb",
   "metadata": {
    "scrolled": true,
    "tags": []
   },
   "outputs": [],
   "source": [
    "%%bash\n",
    "cat ~/smartvillage-operator/kustomize/overlays/sandbox/trafficflowobserveds/sweden-veberod-1-lakaregatan-ne/trafficflowobserved.yaml | grep '^  smartvillage:' -A 3\n"
   ]
  },
  {
   "cell_type": "markdown",
   "id": "53a76d6d-55a4-4549-ba2c-e9b2715732fe",
   "metadata": {},
   "source": [
    "- We configure the Kubernetes Secret with the name `auth_secret_name: smartvillage` where the Authentication `CLIENT_ID` and `CLIENT_SECRET` are stored to use the Smart Village API in your Developer Sandbox. \n",
    "- We configure the `auth_token_url` where the NGSI-LD Smart Village Sync application gets an auth token to send data to the Smart Village API in your Developer Sandbox. \n",
    "- We configure the `site_base_url` where the NGSI-LD Smart Village Sync application will send TrafficFlowObserved data into your Smart Village application in your Developer Sandbox. "
   ]
  },
  {
   "cell_type": "markdown",
   "id": "20df657f-426d-479f-af2d-8a2fdd1c56f5",
   "metadata": {
    "tags": []
   },
   "source": [
    "### attributes configuration of the TrafficFlowObserved smart device"
   ]
  },
  {
   "cell_type": "markdown",
   "id": "aa2eea41-b6ae-45e3-8de3-0abf4dfff5fb",
   "metadata": {},
   "source": [
    "Now we configure the Smart Village Platform specific configuration. "
   ]
  },
  {
   "cell_type": "code",
   "execution_count": null,
   "id": "c661448c-65ca-4510-871d-540aed3799f6",
   "metadata": {
    "scrolled": true,
    "tags": []
   },
   "outputs": [],
   "source": [
    "%%bash\n",
    "cat ~/smartvillage-operator/kustomize/overlays/sandbox/trafficflowobserveds/sweden-veberod-1-lakaregatan-ne/trafficflowobserved.yaml | grep '^  attributes:' -A 17\n"
   ]
  },
  {
   "cell_type": "markdown",
   "id": "e76e4815-7025-465d-826a-fad2684b4198",
   "metadata": {},
   "source": [
    "- `trafficSimulationId` is a foreign key relation to our TrafficSimulation entity in the Smart Village Platform which describes our research project's whole traffic simulation in Veberöd Sweden. \n",
    "- `customTrafficLightId` is a foreign key relation to our SmartTrafficLight entity where we can collect data from all smart devices that make up a smart traffic light at one intersection. \n",
    "- `laneAreaDetectorId` is an identifier for a vehicle traffic camera in the SUMO Traffic Simulator, which is an open source software that generated our smart traffic light data. \n",
    "- `areaServed` is the GeoJSON coordinates of where the vehicle traffic camera is set up to observe the number of vehicles moving through the traffic light. \n",
    "- The rest of the attributes are various statistics to measure the flow of vehicles through the traffic light in a lane of traffic. "
   ]
  },
  {
   "cell_type": "markdown",
   "id": "3b90c36e-dea1-40c3-aec8-a7998b11df07",
   "metadata": {},
   "source": [
    "### device configuration of the TrafficFlowObserved smart device"
   ]
  },
  {
   "cell_type": "markdown",
   "id": "1a100853-5b59-4939-ac8f-3c6116dae0a3",
   "metadata": {},
   "source": [
    "Now that all of our Smart Village microservices are running, we can deploy this TrafficFlowObserved smart device to the platform. \n",
    "- Our traffic flow observed smart device first get configured into the IoT Agent JSON, \n",
    "- the IoT Agent sends a basic entity for the smart device to be saved in the Context Broker, \n",
    "- then we send an AMQP message to RabbitMQ with the current entity data we want to be loaded into the context broker, \n",
    "- the IoT Agent receives this entity data and converts it to NGSI-LD format and updates the entity in the context broker REST API. \n",
    "- The NGSI-LD Smart Village Sync application in the Smart Village Platform subscribes to all entity changes and receives a webhook API request from the context broker with the entity data. \n",
    "- The NGSI-LD Smart Village Sync application receives the context information, type, and ID of the entity, and queries the context broker for the latest entity data\n",
    "- The NGSI-LD Smart Village Sync application then sends a PUT Import request with the TrafficFlowObserved model data to the Smarta Byar Smart Village REST API so that we can visualize the data in our cloud dashboard application. \n"
   ]
  },
  {
   "cell_type": "code",
   "execution_count": null,
   "id": "7c20a5e2-fca2-4b18-9154-95198e087075",
   "metadata": {},
   "outputs": [],
   "source": [
    "%%bash\n",
    "ansible-playbook ~/smartvillage-operator/apply-trafficflowobserved.yaml \\\n",
    "  -e ansible_operator_meta_namespace=$(oc get project -o jsonpath={.items[0].metadata.name}) \\\n",
    "  -e crd_path=~/smartvillage-operator/kustomize/overlays/sandbox/trafficflowobserveds/sweden-veberod-1-lakaregatan-ne/trafficflowobserved.yaml\n",
    "echo DONE"
   ]
  },
  {
   "cell_type": "code",
   "execution_count": null,
   "id": "afb89892-f417-4fba-9c1c-d0f04d328af1",
   "metadata": {},
   "outputs": [],
   "source": []
  }
 ],
 "metadata": {
  "kernelspec": {
   "display_name": "Python 3.9",
   "language": "python",
   "name": "python3"
  },
  "language_info": {
   "codemirror_mode": {
    "name": "ipython",
    "version": 3
   },
   "file_extension": ".py",
   "mimetype": "text/x-python",
   "name": "python",
   "nbconvert_exporter": "python",
   "pygments_lexer": "ipython3",
   "version": "3.9.18"
  }
 },
 "nbformat": 4,
 "nbformat_minor": 5
}
